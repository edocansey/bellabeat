{
 "cells": [
  {
   "cell_type": "markdown",
   "source": [
    "# **Bellabeat activity trends**\n",
    "### A study in smart device user habits"
   ],
   "metadata": {}
  },
  {
   "cell_type": "markdown",
   "source": [
    "## **Objective**\n",
    "1. <font size=\"4\">To indentify trends and patterns of smart device users</font>\n",
    "2. <font size=\"4\">Discuss potential areas for further exploration</font> "
   ],
   "metadata": {}
  },
  {
   "cell_type": "markdown",
   "source": [
    "## **Data Overview**\n",
    "\n",
    "### **Data source:**\n",
    "\n",
    "<font size=\"4\">The data source for this analysis is public domain Fitbit fitness tracker data generated via survey between 3/12/2016\n",
    "and 5/12/2016. The datasets are comprised of personal tracker data from thirty consenting Fitbit users.</font>\n",
    "\n",
    "### **Limitations:**\n",
    "\n",
    "<font size=\"4\">The sample size of thirty users may not best represent the broader demographic of users. Also, the ages and genders of\n",
    "the users are undefined, therefore some context is missing regarding the data. Activities in addition are unspecified and\n",
    "were seldom logged by the users.</font>"
   ],
   "metadata": {}
  },
  {
   "cell_type": "markdown",
   "source": [
    "## **Analysis**"
   ],
   "metadata": {}
  },
  {
   "cell_type": "code",
   "execution_count": null,
   "source": [
    "# I began by importing the numpy, pandas, matplotlib and seaborn packages\r\n",
    "\r\n",
    "import numpy as np\r\n",
    "import pandas as pd\r\n",
    "from matplotlib import pyplot as plt\r\n",
    "import seaborn as sns"
   ],
   "outputs": [],
   "metadata": {
    "execution": {
     "iopub.execute_input": "2021-08-14T01:18:03.503105Z",
     "iopub.status.busy": "2021-08-14T01:18:03.502637Z",
     "iopub.status.idle": "2021-08-14T01:18:03.984607Z",
     "shell.execute_reply": "2021-08-14T01:18:03.983368Z",
     "shell.execute_reply.started": "2021-08-14T01:18:03.503007Z"
    }
   }
  },
  {
   "cell_type": "code",
   "execution_count": null,
   "source": [
    "# I imported the dataset and ran the head and describe functions to familiarize myself with the data\r\n",
    "\r\n",
    "daily_activity = pd.read_csv('../input/bellabeat/dailyActivity_merged.csv')\r\n",
    "\r\n",
    "daily_activity.head()"
   ],
   "outputs": [],
   "metadata": {
    "execution": {
     "iopub.execute_input": "2021-08-14T01:18:06.415317Z",
     "iopub.status.busy": "2021-08-14T01:18:06.414892Z",
     "iopub.status.idle": "2021-08-14T01:18:06.456864Z",
     "shell.execute_reply": "2021-08-14T01:18:06.455789Z",
     "shell.execute_reply.started": "2021-08-14T01:18:06.415283Z"
    }
   }
  },
  {
   "cell_type": "code",
   "execution_count": null,
   "source": [
    "daily_activity.describe()"
   ],
   "outputs": [],
   "metadata": {
    "execution": {
     "iopub.execute_input": "2021-08-14T01:18:08.167897Z",
     "iopub.status.busy": "2021-08-14T01:18:08.167294Z",
     "iopub.status.idle": "2021-08-14T01:18:08.221244Z",
     "shell.execute_reply": "2021-08-14T01:18:08.220464Z",
     "shell.execute_reply.started": "2021-08-14T01:18:08.16786Z"
    }
   }
  },
  {
   "cell_type": "code",
   "execution_count": null,
   "source": [
    "# Here I plotted a histogram to get a sense of the distribution of different categories of data\r\n",
    "\r\n",
    "daily_activity.hist(figsize=(15, 12))\r\n",
    "plt.show()"
   ],
   "outputs": [],
   "metadata": {
    "execution": {
     "iopub.execute_input": "2021-08-14T01:18:10.087636Z",
     "iopub.status.busy": "2021-08-14T01:18:10.086854Z",
     "iopub.status.idle": "2021-08-14T01:18:12.049939Z",
     "shell.execute_reply": "2021-08-14T01:18:12.049041Z",
     "shell.execute_reply.started": "2021-08-14T01:18:10.087594Z"
    }
   }
  },
  {
   "cell_type": "code",
   "execution_count": null,
   "source": [
    "'''\r\n",
    "I noticed that under sedentary minutes there were a number of records showing 1440 minutes (24 hours) of sedentary activity as well as 0 total steps throughout the day. \r\n",
    "I used boolean masks to filter out those records and saved the filtered results to a new dataframe.\r\n",
    "'''"
   ],
   "outputs": [],
   "metadata": {}
  },
  {
   "cell_type": "code",
   "execution_count": null,
   "source": [
    "daily_activity[daily_activity.SedentaryMinutes == 1440] "
   ],
   "outputs": [],
   "metadata": {
    "execution": {
     "iopub.execute_input": "2021-08-14T01:19:06.887208Z",
     "iopub.status.busy": "2021-08-14T01:19:06.886806Z",
     "iopub.status.idle": "2021-08-14T01:19:06.925096Z",
     "shell.execute_reply": "2021-08-14T01:19:06.923998Z",
     "shell.execute_reply.started": "2021-08-14T01:19:06.887176Z"
    }
   }
  },
  {
   "cell_type": "code",
   "execution_count": null,
   "source": [
    "daily_activity = daily_activity[daily_activity.SedentaryMinutes < 1440]\r\n",
    "\r\n",
    "daily_activity"
   ],
   "outputs": [],
   "metadata": {
    "execution": {
     "iopub.execute_input": "2021-08-14T01:19:08.759979Z",
     "iopub.status.busy": "2021-08-14T01:19:08.759402Z",
     "iopub.status.idle": "2021-08-14T01:19:08.794075Z",
     "shell.execute_reply": "2021-08-14T01:19:08.793014Z",
     "shell.execute_reply.started": "2021-08-14T01:19:08.759944Z"
    }
   }
  },
  {
   "cell_type": "code",
   "execution_count": null,
   "source": [
    "daily_activity[daily_activity.TotalSteps == 0] "
   ],
   "outputs": [],
   "metadata": {
    "execution": {
     "iopub.execute_input": "2021-08-14T01:19:10.447268Z",
     "iopub.status.busy": "2021-08-14T01:19:10.44684Z",
     "iopub.status.idle": "2021-08-14T01:19:10.471517Z",
     "shell.execute_reply": "2021-08-14T01:19:10.470249Z",
     "shell.execute_reply.started": "2021-08-14T01:19:10.447209Z"
    }
   }
  },
  {
   "cell_type": "code",
   "execution_count": null,
   "source": [
    "daily_activity = daily_activity[daily_activity.TotalSteps > 0] "
   ],
   "outputs": [],
   "metadata": {
    "execution": {
     "iopub.execute_input": "2021-08-14T01:19:12.104096Z",
     "iopub.status.busy": "2021-08-14T01:19:12.10344Z",
     "iopub.status.idle": "2021-08-14T01:19:12.109438Z",
     "shell.execute_reply": "2021-08-14T01:19:12.108608Z",
     "shell.execute_reply.started": "2021-08-14T01:19:12.104041Z"
    }
   }
  },
  {
   "cell_type": "code",
   "execution_count": null,
   "source": [
    "# I then plotted a histogram and ran the describe function with the revised data\r\n",
    "\r\n",
    "daily_activity.hist(figsize=(15, 12))\r\n",
    "plt.show()"
   ],
   "outputs": [],
   "metadata": {
    "execution": {
     "iopub.execute_input": "2021-08-14T01:19:42.231729Z",
     "iopub.status.busy": "2021-08-14T01:19:42.231301Z",
     "iopub.status.idle": "2021-08-14T01:19:44.315533Z",
     "shell.execute_reply": "2021-08-14T01:19:44.314433Z",
     "shell.execute_reply.started": "2021-08-14T01:19:42.231683Z"
    }
   }
  },
  {
   "cell_type": "code",
   "execution_count": null,
   "source": [
    "daily_activity.describe()\r\n"
   ],
   "outputs": [],
   "metadata": {
    "execution": {
     "iopub.execute_input": "2021-08-14T01:19:39.031543Z",
     "iopub.status.busy": "2021-08-14T01:19:39.031114Z",
     "iopub.status.idle": "2021-08-14T01:19:39.085999Z",
     "shell.execute_reply": "2021-08-14T01:19:39.084989Z",
     "shell.execute_reply.started": "2021-08-14T01:19:39.031508Z"
    }
   }
  },
  {
   "cell_type": "code",
   "execution_count": null,
   "source": [
    "# Here I ran some boolean masks to filter the data and examine it for any trends or notables"
   ],
   "outputs": [],
   "metadata": {}
  },
  {
   "cell_type": "code",
   "execution_count": null,
   "source": [
    "daily_activity[daily_activity.TotalSteps < 200] "
   ],
   "outputs": [],
   "metadata": {
    "execution": {
     "iopub.execute_input": "2021-08-14T01:20:20.527914Z",
     "iopub.status.busy": "2021-08-14T01:20:20.527481Z",
     "iopub.status.idle": "2021-08-14T01:20:20.56261Z",
     "shell.execute_reply": "2021-08-14T01:20:20.561528Z",
     "shell.execute_reply.started": "2021-08-14T01:20:20.527878Z"
    }
   }
  },
  {
   "cell_type": "code",
   "execution_count": null,
   "source": [
    "daily_activity[daily_activity.LoggedActivitiesDistance == 0] "
   ],
   "outputs": [],
   "metadata": {
    "execution": {
     "iopub.execute_input": "2021-08-14T01:20:22.990859Z",
     "iopub.status.busy": "2021-08-14T01:20:22.990432Z",
     "iopub.status.idle": "2021-08-14T01:20:23.024253Z",
     "shell.execute_reply": "2021-08-14T01:20:23.023338Z",
     "shell.execute_reply.started": "2021-08-14T01:20:22.990824Z"
    }
   }
  },
  {
   "cell_type": "code",
   "execution_count": null,
   "source": [
    "daily_activity[daily_activity.LoggedActivitiesDistance > 0]"
   ],
   "outputs": [],
   "metadata": {
    "execution": {
     "iopub.execute_input": "2021-08-14T01:20:25.015788Z",
     "iopub.status.busy": "2021-08-14T01:20:25.015368Z",
     "iopub.status.idle": "2021-08-14T01:20:25.060294Z",
     "shell.execute_reply": "2021-08-14T01:20:25.058997Z",
     "shell.execute_reply.started": "2021-08-14T01:20:25.01575Z"
    },
    "scrolled": true
   }
  },
  {
   "cell_type": "code",
   "execution_count": null,
   "source": [
    "print(daily_activity[daily_activity.LoggedActivitiesDistance > 0].Id.count)"
   ],
   "outputs": [],
   "metadata": {
    "execution": {
     "iopub.execute_input": "2021-08-14T01:20:29.088377Z",
     "iopub.status.busy": "2021-08-14T01:20:29.08779Z",
     "iopub.status.idle": "2021-08-14T01:20:29.096149Z",
     "shell.execute_reply": "2021-08-14T01:20:29.095443Z",
     "shell.execute_reply.started": "2021-08-14T01:20:29.088328Z"
    }
   }
  },
  {
   "cell_type": "code",
   "execution_count": null,
   "source": [
    "33/856\r\n",
    "\r\n",
    "# NOTE: Only 3.9% of activities were logged. \r\n",
    "# Only 4 of 30 users logged activities in total"
   ],
   "outputs": [],
   "metadata": {
    "execution": {
     "iopub.execute_input": "2021-08-14T01:20:31.999471Z",
     "iopub.status.busy": "2021-08-14T01:20:31.998857Z",
     "iopub.status.idle": "2021-08-14T01:20:32.004795Z",
     "shell.execute_reply": "2021-08-14T01:20:32.004055Z",
     "shell.execute_reply.started": "2021-08-14T01:20:31.999419Z"
    }
   }
  },
  {
   "cell_type": "code",
   "execution_count": null,
   "source": [
    "daily_activity.groupby('ActivityDate').TotalSteps.mean().plot(figsize=(15, 12), kind='barh')\r\n",
    "plt.show()\r\n"
   ],
   "outputs": [],
   "metadata": {
    "execution": {
     "iopub.execute_input": "2021-08-14T01:20:35.207029Z",
     "iopub.status.busy": "2021-08-14T01:20:35.206599Z",
     "iopub.status.idle": "2021-08-14T01:20:35.566129Z",
     "shell.execute_reply": "2021-08-14T01:20:35.565042Z",
     "shell.execute_reply.started": "2021-08-14T01:20:35.206992Z"
    }
   }
  },
  {
   "cell_type": "code",
   "execution_count": null,
   "source": [
    "'''\r\n",
    "I exported the revised dataset and added the day of week column in excel using the =WEEKDAY function where Sunday = 1 and Saturday = 7. \r\n",
    "I then imported the revised dataset and proceeded with the analysis grouping by the day of week to further analyze for trends.\r\n",
    "'''"
   ],
   "outputs": [],
   "metadata": {}
  },
  {
   "cell_type": "code",
   "execution_count": null,
   "source": [
    "# daily_activity.to_csv('../input/bellabeat/daily_activity.csv', index = False) -- commented out due to read only"
   ],
   "outputs": [],
   "metadata": {
    "execution": {
     "iopub.execute_input": "2021-08-13T20:16:49.197114Z",
     "iopub.status.busy": "2021-08-13T20:16:49.196594Z",
     "iopub.status.idle": "2021-08-13T20:16:49.200823Z",
     "shell.execute_reply": "2021-08-13T20:16:49.19988Z",
     "shell.execute_reply.started": "2021-08-13T20:16:49.197082Z"
    }
   }
  },
  {
   "cell_type": "code",
   "execution_count": null,
   "source": [
    "daily_activity = pd.read_csv('../input/bellabeat/csv_files/daily_activity2.csv')\r\n",
    "\r\n",
    "daily_activity.head()"
   ],
   "outputs": [],
   "metadata": {
    "execution": {
     "iopub.execute_input": "2021-08-14T01:22:40.875831Z",
     "iopub.status.busy": "2021-08-14T01:22:40.875246Z",
     "iopub.status.idle": "2021-08-14T01:22:40.907685Z",
     "shell.execute_reply": "2021-08-14T01:22:40.906768Z",
     "shell.execute_reply.started": "2021-08-14T01:22:40.875793Z"
    }
   }
  },
  {
   "cell_type": "code",
   "execution_count": null,
   "source": [
    "daily_activity.groupby('DayofWeek').TotalSteps.mean().plot(figsize=(10, 4), kind='barh')\r\n",
    "plt.show()\r\n",
    "\r\n",
    "print(daily_activity.groupby('DayofWeek').TotalSteps.mean())"
   ],
   "outputs": [],
   "metadata": {
    "execution": {
     "iopub.execute_input": "2021-08-14T01:22:46.419044Z",
     "iopub.status.busy": "2021-08-14T01:22:46.418632Z",
     "iopub.status.idle": "2021-08-14T01:22:46.572583Z",
     "shell.execute_reply": "2021-08-14T01:22:46.571442Z",
     "shell.execute_reply.started": "2021-08-14T01:22:46.419009Z"
    }
   }
  },
  {
   "cell_type": "code",
   "execution_count": null,
   "source": [
    "daily_activity.groupby('DayofWeek').VeryActiveMinutes.mean().plot(figsize=(10, 4), kind='barh')\r\n",
    "plt.show()\r\n",
    "\r\n",
    "print(daily_activity.groupby('DayofWeek').VeryActiveMinutes.mean())"
   ],
   "outputs": [],
   "metadata": {
    "execution": {
     "iopub.execute_input": "2021-08-14T01:22:48.463618Z",
     "iopub.status.busy": "2021-08-14T01:22:48.462976Z",
     "iopub.status.idle": "2021-08-14T01:22:48.620161Z",
     "shell.execute_reply": "2021-08-14T01:22:48.619349Z",
     "shell.execute_reply.started": "2021-08-14T01:22:48.463578Z"
    }
   }
  },
  {
   "cell_type": "code",
   "execution_count": null,
   "source": [
    "daily_activity.groupby('DayofWeek').LightlyActiveMinutes.mean().plot(figsize=(10, 4), kind='barh')\r\n",
    "plt.show()\r\n",
    "\r\n",
    "print(daily_activity.groupby('DayofWeek').LightlyActiveMinutes.mean())"
   ],
   "outputs": [],
   "metadata": {
    "execution": {
     "iopub.execute_input": "2021-08-14T01:22:50.32774Z",
     "iopub.status.busy": "2021-08-14T01:22:50.327117Z",
     "iopub.status.idle": "2021-08-14T01:22:50.472209Z",
     "shell.execute_reply": "2021-08-14T01:22:50.47149Z",
     "shell.execute_reply.started": "2021-08-14T01:22:50.327703Z"
    }
   }
  },
  {
   "cell_type": "code",
   "execution_count": null,
   "source": [
    "daily_activity.groupby('DayofWeek').SedentaryMinutes.mean().plot(figsize=(10, 4), kind='barh')\r\n",
    "plt.show()\r\n",
    "\r\n",
    "print(daily_activity.groupby('DayofWeek').SedentaryMinutes.mean())"
   ],
   "outputs": [],
   "metadata": {
    "execution": {
     "iopub.execute_input": "2021-08-14T01:22:51.881556Z",
     "iopub.status.busy": "2021-08-14T01:22:51.878689Z",
     "iopub.status.idle": "2021-08-14T01:22:52.031497Z",
     "shell.execute_reply": "2021-08-14T01:22:52.030321Z",
     "shell.execute_reply.started": "2021-08-14T01:22:51.881492Z"
    }
   }
  },
  {
   "cell_type": "code",
   "execution_count": null,
   "source": [
    "daily_activity.groupby('DayofWeek').VeryActiveMinutes.sum().plot(figsize=(10, 4), kind='barh')\r\n",
    "plt.show()\r\n",
    "\r\n",
    "print(daily_activity.groupby('DayofWeek').VeryActiveMinutes.sum())"
   ],
   "outputs": [],
   "metadata": {
    "execution": {
     "iopub.execute_input": "2021-08-14T01:22:53.623538Z",
     "iopub.status.busy": "2021-08-14T01:22:53.623082Z",
     "iopub.status.idle": "2021-08-14T01:22:53.819526Z",
     "shell.execute_reply": "2021-08-14T01:22:53.818421Z",
     "shell.execute_reply.started": "2021-08-14T01:22:53.623499Z"
    }
   }
  },
  {
   "cell_type": "code",
   "execution_count": null,
   "source": [
    "'''\r\n",
    "At this stage I ws beginning to notice a few trends. Saturdays had the highest overall activity on average measured by total steps, followed by Tuesdays. \r\n",
    "Tuesday was the highest day of very active minutes and calories burned followed by Monday and Saturday respectively. \r\n",
    "There was a declining trend in very active minutes from Tuesday to Friday, picking up again on Saturday. Saturday lead all days in fairly and lightly active minutes, followed by Tuesday. \r\n",
    "The most sedentary minutes were on Mondays and users overall tended to be more sedentary during weekdays in contrast to weekends. Only 4 of 30 users logged activity distance.\r\n",
    "'''"
   ],
   "outputs": [],
   "metadata": {
    "execution": {
     "iopub.execute_input": "2021-08-14T01:24:53.832064Z",
     "iopub.status.busy": "2021-08-14T01:24:53.831603Z",
     "iopub.status.idle": "2021-08-14T01:24:53.839577Z",
     "shell.execute_reply": "2021-08-14T01:24:53.838755Z",
     "shell.execute_reply.started": "2021-08-14T01:24:53.832021Z"
    }
   }
  },
  {
   "cell_type": "code",
   "execution_count": null,
   "source": [
    "daily_activity"
   ],
   "outputs": [],
   "metadata": {
    "execution": {
     "iopub.execute_input": "2021-08-14T01:24:56.691295Z",
     "iopub.status.busy": "2021-08-14T01:24:56.690687Z",
     "iopub.status.idle": "2021-08-14T01:24:56.721541Z",
     "shell.execute_reply": "2021-08-14T01:24:56.720515Z",
     "shell.execute_reply.started": "2021-08-14T01:24:56.691244Z"
    }
   }
  },
  {
   "cell_type": "code",
   "execution_count": null,
   "source": [
    "'''\r\n",
    "Till this point, I was exploring daily patterns. I decided to explore hourly patterns to see if I could gain any additional insight. I added a DayofWeek column to the dailyintensities and hourlyintensities datasets in excel and imported them for analysis.\r\n",
    "'''"
   ],
   "outputs": [],
   "metadata": {}
  },
  {
   "cell_type": "code",
   "execution_count": null,
   "source": [
    "daily_intensity = pd.read_csv('../input/bellabeat/csv_files/dailyIntensities.csv')\r\n",
    "\r\n",
    "hourly_intensity = pd.read_csv('../input/bellabeat/csv_files/hourlyIntensities.csv')\r\n",
    "\r\n",
    "daily_intensity.head()\r\n"
   ],
   "outputs": [],
   "metadata": {
    "execution": {
     "iopub.execute_input": "2021-08-14T01:27:24.083725Z",
     "iopub.status.busy": "2021-08-14T01:27:24.083295Z",
     "iopub.status.idle": "2021-08-14T01:27:24.131684Z",
     "shell.execute_reply": "2021-08-14T01:27:24.130693Z",
     "shell.execute_reply.started": "2021-08-14T01:27:24.083686Z"
    }
   }
  },
  {
   "cell_type": "code",
   "execution_count": null,
   "source": [
    "hourly_intensity.head()"
   ],
   "outputs": [],
   "metadata": {
    "execution": {
     "iopub.execute_input": "2021-08-14T01:27:25.767671Z",
     "iopub.status.busy": "2021-08-14T01:27:25.767197Z",
     "iopub.status.idle": "2021-08-14T01:27:25.780653Z",
     "shell.execute_reply": "2021-08-14T01:27:25.779526Z",
     "shell.execute_reply.started": "2021-08-14T01:27:25.767635Z"
    }
   }
  },
  {
   "cell_type": "code",
   "execution_count": null,
   "source": [
    "daily_intensity.hist(figsize=(15, 12))\r\n",
    "plt.show()\r\n"
   ],
   "outputs": [],
   "metadata": {
    "execution": {
     "iopub.execute_input": "2021-08-14T01:27:38.883285Z",
     "iopub.status.busy": "2021-08-14T01:27:38.882832Z",
     "iopub.status.idle": "2021-08-14T01:27:40.273382Z",
     "shell.execute_reply": "2021-08-14T01:27:40.27233Z",
     "shell.execute_reply.started": "2021-08-14T01:27:38.883251Z"
    }
   }
  },
  {
   "cell_type": "code",
   "execution_count": null,
   "source": [
    "hourly_intensity.hist(figsize=(10, 8))\r\n",
    "plt.show()\r\n"
   ],
   "outputs": [],
   "metadata": {
    "execution": {
     "iopub.execute_input": "2021-08-14T01:27:43.24355Z",
     "iopub.status.busy": "2021-08-14T01:27:43.24308Z",
     "iopub.status.idle": "2021-08-14T01:27:44.14373Z",
     "shell.execute_reply": "2021-08-14T01:27:44.142595Z",
     "shell.execute_reply.started": "2021-08-14T01:27:43.243509Z"
    }
   }
  },
  {
   "cell_type": "code",
   "execution_count": null,
   "source": [
    "hourly_intensity.groupby('DayofWeek').AverageIntensity.mean().plot(figsize=(10, 4), kind='barh')\r\n",
    "plt.show()\r\n",
    "\r\n",
    "print(hourly_intensity.groupby('DayofWeek').AverageIntensity.mean())"
   ],
   "outputs": [],
   "metadata": {
    "execution": {
     "iopub.execute_input": "2021-08-14T01:27:46.519337Z",
     "iopub.status.busy": "2021-08-14T01:27:46.518902Z",
     "iopub.status.idle": "2021-08-14T01:27:46.674576Z",
     "shell.execute_reply": "2021-08-14T01:27:46.673393Z",
     "shell.execute_reply.started": "2021-08-14T01:27:46.519302Z"
    }
   }
  },
  {
   "cell_type": "code",
   "execution_count": null,
   "source": [
    "hourly_intensity.describe()"
   ],
   "outputs": [],
   "metadata": {
    "execution": {
     "iopub.execute_input": "2021-08-14T01:27:48.402964Z",
     "iopub.status.busy": "2021-08-14T01:27:48.40255Z",
     "iopub.status.idle": "2021-08-14T01:27:48.432809Z",
     "shell.execute_reply": "2021-08-14T01:27:48.431833Z",
     "shell.execute_reply.started": "2021-08-14T01:27:48.402931Z"
    }
   }
  },
  {
   "cell_type": "markdown",
   "source": [
    "<font size=\"4\">I continued my analysis of hourly trends in Tableau, creating the following dashboard:</font>"
   ],
   "metadata": {}
  },
  {
   "cell_type": "markdown",
   "source": [
    "[User activity dashboard](https://public.tableau.com/views/Bellabeat2/Dashboard1?:language=en-US&:display_count=n&:origin=viz_share_link)"
   ],
   "metadata": {}
  },
  {
   "cell_type": "markdown",
   "source": [
    "## **Conclusion**"
   ],
   "metadata": {}
  },
  {
   "cell_type": "markdown",
   "source": [
    "* <font size=\"4\">The data revealed that the users were simultaneously the least sedentary and the most engaged in activities on Saturdays. Users tended to engage in activities as early as 12am on Saturday through 2am, carrying over from late night Friday activities.</font>\r\n",
    "  \r\n",
    "* <font size=\"4\">The probable times of intense exercise per the heartrate data were primarily Saturdayfrom 8am to 10am, Sunday around 7pm, Monday between 4pm and 5pm and Tuesday around 6pm.</font>\r\n",
    "\r\n",
    "* <font size=\"4\">Users were mostly sedentary and the highest intensity of activity was moderate, as indicated by the maximum recorded heartrate of 103.99. Only 3.9% of activities were logged in total by only 13% of the users.</font>\r\n"
   ],
   "metadata": {}
  },
  {
   "cell_type": "markdown",
   "source": [
    "## **Suggestions**\n",
    "\n"
   ],
   "metadata": {}
  },
  {
   "cell_type": "markdown",
   "source": [
    "* <font size=\"4\">This study revealed that the users were generally sedentary, non-enthusiast-types who probably engage in nightlife and are most active during weekends. This profile can be used to inform the marketing approach. Also, users were generally passive in thier use of the smart devices. Consider ways to encourage user engagement with the application and devices. This could be done through prompts for feedback or notifications within the application and/or devices that may provide recommendations or suggestions based on the learned patterns of the user, or the average user data.</font>\n",
    "\n",
    "* <font size=\"4\">Further analysis into the types of activities users are generally engaged in should provide additional insights. This data might be obtained via a survey of the target market for each product.</font>\n"
   ],
   "metadata": {}
  }
 ],
 "metadata": {
  "kernelspec": {
   "display_name": "Python 3",
   "language": "python",
   "name": "python3"
  },
  "language_info": {
   "codemirror_mode": {
    "name": "ipython",
    "version": 3
   },
   "file_extension": ".py",
   "mimetype": "text/x-python",
   "name": "python",
   "nbconvert_exporter": "python",
   "pygments_lexer": "ipython3",
   "version": "3.8.8"
  }
 },
 "nbformat": 4,
 "nbformat_minor": 4
}